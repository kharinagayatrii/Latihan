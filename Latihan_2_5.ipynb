{
  "nbformat": 4,
  "nbformat_minor": 0,
  "metadata": {
    "colab": {
      "provenance": [],
      "authorship_tag": "ABX9TyM5Ctzduvr5ZZSIr9EbAaKO",
      "include_colab_link": true
    },
    "kernelspec": {
      "name": "python3",
      "display_name": "Python 3"
    },
    "language_info": {
      "name": "python"
    }
  },
  "cells": [
    {
      "cell_type": "markdown",
      "metadata": {
        "id": "view-in-github",
        "colab_type": "text"
      },
      "source": [
        "<a href=\"https://colab.research.google.com/github/kharinagayatrii/Latihan/blob/main/Latihan_2_5.ipynb\" target=\"_parent\"><img src=\"https://colab.research.google.com/assets/colab-badge.svg\" alt=\"Open In Colab\"/></a>"
      ]
    },
    {
      "cell_type": "code",
      "execution_count": 8,
      "metadata": {
        "colab": {
          "base_uri": "https://localhost:8080/"
        },
        "id": "i60N9AYQN8Sq",
        "outputId": "6d6bab4a-a931-491f-d9ab-0a8c4d7a894e"
      },
      "outputs": [
        {
          "output_type": "stream",
          "name": "stdout",
          "text": [
            "algoritma dan struktur data\n"
          ]
        }
      ],
      "source": [
        "kelas06 = \"algoritma dan struktur data\"\n",
        "print(kelas06[:])"
      ]
    },
    {
      "cell_type": "code",
      "source": [
        "kelas06 = \"algoritma dan struktur data\"\n",
        "print(kelas06[14:-8])"
      ],
      "metadata": {
        "colab": {
          "base_uri": "https://localhost:8080/"
        },
        "id": "vDw_D2OlCPmE",
        "outputId": "e9ab3c41-49fe-4b01-e0a2-2d3c604e2a9a"
      },
      "execution_count": 11,
      "outputs": [
        {
          "output_type": "stream",
          "name": "stdout",
          "text": [
            "struk\n"
          ]
        }
      ]
    },
    {
      "cell_type": "code",
      "source": [
        "kelas06 = \"algoritma dan struktur data\"\n",
        "print(kelas06[7:-14])"
      ],
      "metadata": {
        "colab": {
          "base_uri": "https://localhost:8080/"
        },
        "id": "codhgjTCCuLH",
        "outputId": "b0e095f5-bfbd-4f24-88ed-c2707a473108"
      },
      "execution_count": 18,
      "outputs": [
        {
          "output_type": "stream",
          "name": "stdout",
          "text": [
            "ma dan\n"
          ]
        }
      ]
    }
  ]
}