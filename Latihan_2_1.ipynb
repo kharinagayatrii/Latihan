{
  "nbformat": 4,
  "nbformat_minor": 0,
  "metadata": {
    "colab": {
      "provenance": [],
      "authorship_tag": "ABX9TyMCqeNpZfIwIRjZ1IQ+UnDL",
      "include_colab_link": true
    },
    "kernelspec": {
      "name": "python3",
      "display_name": "Python 3"
    },
    "language_info": {
      "name": "python"
    }
  },
  "cells": [
    {
      "cell_type": "markdown",
      "metadata": {
        "id": "view-in-github",
        "colab_type": "text"
      },
      "source": [
        "<a href=\"https://colab.research.google.com/github/kharinagayatrii/Latihan/blob/main/Latihan_2_1.ipynb\" target=\"_parent\"><img src=\"https://colab.research.google.com/assets/colab-badge.svg\" alt=\"Open In Colab\"/></a>"
      ]
    },
    {
      "cell_type": "code",
      "execution_count": 1,
      "metadata": {
        "colab": {
          "base_uri": "https://localhost:8080/"
        },
        "id": "KiJ6FRyeHrp3",
        "outputId": "93803cc9-2459-43fe-a440-97bdc4fc0370"
      },
      "outputs": [
        {
          "output_type": "stream",
          "name": "stdout",
          "text": [
            "Iqbaal Ramadhan adalah aktor dan penyanyi yang berasal dari negara Indonesia\n"
          ]
        }
      ],
      "source": [
        "print(\"Iqbaal Ramadhan adalah aktor dan penyanyi yang berasal dari negara Indonesia\")"
      ]
    },
    {
      "cell_type": "code",
      "source": [
        "print('Kharina adalah seorang comate atau fans Coboy Junior dari tahun 2011 dengan biasnya adalah Iqbaal Dhiafakhri Ramadhan')"
      ],
      "metadata": {
        "colab": {
          "base_uri": "https://localhost:8080/"
        },
        "id": "gMkVjecFIQ2V",
        "outputId": "d06c23b7-e034-4cb6-d451-e246dba5813c"
      },
      "execution_count": 2,
      "outputs": [
        {
          "output_type": "stream",
          "name": "stdout",
          "text": [
            "Kharina adalah seorang comate atau fans Coboy Junior dari tahun 2011 dengan biasnya adalah Iqbaal Dhiafakhri Ramadhan\n"
          ]
        }
      ]
    },
    {
      "cell_type": "code",
      "source": [
        "Kharina06 = \"Kharina\"\n",
        "Iqbaal06 = \"Iqbaal\"\n",
        "print(Iqbaal06 + \" adalah pemberi semangat dihidup \" + Kharina06)"
      ],
      "metadata": {
        "colab": {
          "base_uri": "https://localhost:8080/"
        },
        "id": "8YHtZapqInhD",
        "outputId": "e3f34bba-9d36-4a73-b68d-c67b59e6f6a4"
      },
      "execution_count": 5,
      "outputs": [
        {
          "output_type": "stream",
          "name": "stdout",
          "text": [
            "Iqbaal adalah pemberi semangat dihidup Kharina\n"
          ]
        }
      ]
    }
  ]
}