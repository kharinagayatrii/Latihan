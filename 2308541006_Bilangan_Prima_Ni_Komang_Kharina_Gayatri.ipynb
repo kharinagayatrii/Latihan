{
  "nbformat": 4,
  "nbformat_minor": 0,
  "metadata": {
    "colab": {
      "provenance": [],
      "authorship_tag": "ABX9TyMHvoHL1RuzY89MbGq8jBa2",
      "include_colab_link": true
    },
    "kernelspec": {
      "name": "python3",
      "display_name": "Python 3"
    },
    "language_info": {
      "name": "python"
    }
  },
  "cells": [
    {
      "cell_type": "markdown",
      "metadata": {
        "id": "view-in-github",
        "colab_type": "text"
      },
      "source": [
        "<a href=\"https://colab.research.google.com/github/kharinagayatrii/Latihan/blob/main/2308541006_Bilangan_Prima_Ni_Komang_Kharina_Gayatri.ipynb\" target=\"_parent\"><img src=\"https://colab.research.google.com/assets/colab-badge.svg\" alt=\"Open In Colab\"/></a>"
      ]
    },
    {
      "cell_type": "code",
      "execution_count": 8,
      "metadata": {
        "colab": {
          "base_uri": "https://localhost:8080/"
        },
        "id": "DdzBlSbpqiQJ",
        "outputId": "52dfd0b7-bc0f-4cf9-dbd1-7a1926309abd"
      },
      "outputs": [
        {
          "output_type": "stream",
          "name": "stdout",
          "text": [
            "Masukkan bilangan yang akan diuji: 100\n",
            "Bilangan 100 bukan merupakan Bilangan Prima, karena memiliki lebih dari 2 faktor!\n"
          ]
        }
      ],
      "source": [
        "Bilangan_Prima06 = float(input(\"Masukkan bilangan yang akan diuji: \"))\n",
        "\n",
        "if (Bilangan_Prima06 == 1) :\n",
        "  print(\"Bilangan 1 bukan merupakan Bilangan Prima, karena hanya punya 1 faktor yaitu 1 dirinya sendiri!\")\n",
        "if (Bilangan_Prima06 == 2) :\n",
        "  print(f\"Bilangan 2 merupakan Bilangan Prima, karena memiliki 2 faktor yaitu 1 dan 2 dirinya sendiri!\")\n",
        "if (Bilangan_Prima06 == 3) :\n",
        "  print(f\"Bilangan 3 merupakan Bilangan Prima, karena memiliki 2 faktor yaitu 1 dan 3 dirinya sendiri\")\n",
        "if (Bilangan_Prima06 % 2 == 1) and ((Bilangan_Prima06 % 3 == 1) or (Bilangan_Prima06 % 3 == 2)) :\n",
        "  print(f\"Bilangan {int(Bilangan_Prima06)} merupakan Bilangan Prima, karena memiliki 2 faktor yaitu 1 dan {int(Bilangan_Prima06)} dirinya sendiri!\")\n",
        "else :\n",
        "  print(f\"Bilangan {int(Bilangan_Prima06)} bukan merupakan Bilangan Prima, karena memiliki lebih dari 2 faktor!\")"
      ]
    },
    {
      "cell_type": "code",
      "source": [
        "import math\n",
        "\n",
        "Bilangan_Prima06 = float(input(\"Masukkan bilangan yang akan diuji: \"))\n",
        "\n",
        "if (Bilangan_Prima06 == 1) :\n",
        "  print(\"Bilangan 1 BUKAN merupakan Bilangan Prima, karena hanya memiliki 1 faktor yaitu 1 dirinya sendiri!\")\n",
        "elif (Bilangan_Prima06 > 1) :\n",
        "  akar06 = math.sqrt(Bilangan_Prima06)\n",
        "  bulat_kebawah06 = math.floor(akar06)\n",
        "  print(bulat_kebawah06)\n",
        "else :\n",
        "  for i in range(2,(int(bulat_kebawah06))) :\n",
        "    if ((Bilangan_Prima06 % i) == 0) :\n",
        "      print(f\"Bilangan {Bilangan_Prima06} BUKAN merupakan Bilangan Prima, karena memiliki lebih dari 2 faktor\")\n",
        "      break"
      ],
      "metadata": {
        "colab": {
          "base_uri": "https://localhost:8080/"
        },
        "id": "TxWbNhLh1Zf7",
        "outputId": "e5ab5987-7a53-42d4-bdf0-77450d5080e4"
      },
      "execution_count": 2,
      "outputs": [
        {
          "output_type": "stream",
          "name": "stdout",
          "text": [
            "Masukkan bilangan yang akan diuji: 49\n",
            "7\n"
          ]
        }
      ]
    }
  ]
}