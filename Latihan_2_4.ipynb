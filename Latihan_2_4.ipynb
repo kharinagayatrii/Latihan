{
  "nbformat": 4,
  "nbformat_minor": 0,
  "metadata": {
    "colab": {
      "provenance": [],
      "authorship_tag": "ABX9TyMuo6Fi6cnxkXDQHjx35s/T",
      "include_colab_link": true
    },
    "kernelspec": {
      "name": "python3",
      "display_name": "Python 3"
    },
    "language_info": {
      "name": "python"
    }
  },
  "cells": [
    {
      "cell_type": "markdown",
      "metadata": {
        "id": "view-in-github",
        "colab_type": "text"
      },
      "source": [
        "<a href=\"https://colab.research.google.com/github/kharinagayatrii/Latihan/blob/main/Latihan_2_4.ipynb\" target=\"_parent\"><img src=\"https://colab.research.google.com/assets/colab-badge.svg\" alt=\"Open In Colab\"/></a>"
      ]
    },
    {
      "cell_type": "code",
      "execution_count": 3,
      "metadata": {
        "colab": {
          "base_uri": "https://localhost:8080/"
        },
        "id": "i60N9AYQN8Sq",
        "outputId": "7a0df23e-6782-4b0a-e49b-9849ee5d5596"
      },
      "outputs": [
        {
          "output_type": "stream",
          "name": "stdout",
          "text": [
            "Iqbaal Ramadhan adalah seorang Aktor Muda berasal dari negara Indonesia.\n"
          ]
        }
      ],
      "source": [
        "Nama06 = \"Iqbaal Ramadhan\"\n",
        "Pekerjaan06 = \"Aktor Muda\"\n",
        "Institusi06 = \"Indonesia\"\n",
        "print(f'{Nama06} adalah seorang {Pekerjaan06} berasal dari negara {Institusi06}.')"
      ]
    }
  ]
}