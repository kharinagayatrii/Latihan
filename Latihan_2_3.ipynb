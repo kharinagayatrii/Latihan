{
  "nbformat": 4,
  "nbformat_minor": 0,
  "metadata": {
    "colab": {
      "provenance": [],
      "authorship_tag": "ABX9TyMLlU+pUs2cmulmRwmCAcVC",
      "include_colab_link": true
    },
    "kernelspec": {
      "name": "python3",
      "display_name": "Python 3"
    },
    "language_info": {
      "name": "python"
    }
  },
  "cells": [
    {
      "cell_type": "markdown",
      "metadata": {
        "id": "view-in-github",
        "colab_type": "text"
      },
      "source": [
        "<a href=\"https://colab.research.google.com/github/kharinagayatrii/Latihan/blob/main/Latihan_2_3.ipynb\" target=\"_parent\"><img src=\"https://colab.research.google.com/assets/colab-badge.svg\" alt=\"Open In Colab\"/></a>"
      ]
    },
    {
      "cell_type": "code",
      "execution_count": 2,
      "metadata": {
        "colab": {
          "base_uri": "https://localhost:8080/"
        },
        "id": "f9aKkiuoL_c0",
        "outputId": "9c43a036-d58b-4f1f-ef22-c41db1055e30"
      },
      "outputs": [
        {
          "output_type": "stream",
          "name": "stdout",
          "text": [
            "Hutang kamu di warteg sebesar 9500\n",
            "Hutang kamu di kantin FMIPA sebesar 11200\n",
            "Jumlah hutang kamu mencapai 20700.0\n"
          ]
        }
      ],
      "source": [
        "Hutang1_06 = input(\"Hutang kamu di warteg sebesar \")\n",
        "Hutang2_06 = input(\"Hutang kamu di kantin FMIPA sebesar \")\n",
        "Jumlah_Hutang06 = float(Hutang1_06) + float(Hutang2_06)\n",
        "print(\"Jumlah hutang kamu mencapai \" + str(Jumlah_Hutang06))"
      ]
    }
  ]
}