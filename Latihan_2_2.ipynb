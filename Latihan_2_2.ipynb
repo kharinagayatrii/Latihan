{
  "nbformat": 4,
  "nbformat_minor": 0,
  "metadata": {
    "colab": {
      "provenance": [],
      "authorship_tag": "ABX9TyNddxKeqhvhiMdJw+cojH96",
      "include_colab_link": true
    },
    "kernelspec": {
      "name": "python3",
      "display_name": "Python 3"
    },
    "language_info": {
      "name": "python"
    }
  },
  "cells": [
    {
      "cell_type": "markdown",
      "metadata": {
        "id": "view-in-github",
        "colab_type": "text"
      },
      "source": [
        "<a href=\"https://colab.research.google.com/github/kharinagayatrii/Latihan/blob/main/Latihan_2_2.ipynb\" target=\"_parent\"><img src=\"https://colab.research.google.com/assets/colab-badge.svg\" alt=\"Open In Colab\"/></a>"
      ]
    },
    {
      "cell_type": "code",
      "execution_count": null,
      "metadata": {
        "colab": {
          "base_uri": "https://localhost:8080/"
        },
        "id": "zqiySe64c4ON",
        "outputId": "98529079-4841-4806-f910-a100bffcd7a1"
      },
      "outputs": [
        {
          "output_type": "stream",
          "name": "stdout",
          "text": [
            "Nama kamu adalah Kharina imut \n",
            "Nama pasangan kamu adalah Angga unyu\n",
            "Kharina imut  adalah sinar didunia Angga unyu\n",
            "XOXO wupyuuuu\n"
          ]
        }
      ],
      "source": [
        "Nama_anda06 = input (\"Nama kamu adalah \")\n",
        "Nama_pasangan06 = input (\"Nama pasangan kamu adalah \")\n",
        "print( Nama_anda06 + \" adalah sinar didunia \" + Nama_pasangan06 )\n",
        "print( \"XOXO wupyuuuu\" )"
      ]
    }
  ]
}