{
  "nbformat": 4,
  "nbformat_minor": 0,
  "metadata": {
    "colab": {
      "provenance": [],
      "authorship_tag": "ABX9TyMPrqUsa/IuOrK0tLlI0Aik",
      "include_colab_link": true
    },
    "kernelspec": {
      "name": "python3",
      "display_name": "Python 3"
    },
    "language_info": {
      "name": "python"
    }
  },
  "cells": [
    {
      "cell_type": "markdown",
      "metadata": {
        "id": "view-in-github",
        "colab_type": "text"
      },
      "source": [
        "<a href=\"https://colab.research.google.com/github/kharinagayatrii/Latihan/blob/main/Ujian_Tengah_Semester_Algoritma_Struktur_Data.ipynb\" target=\"_parent\"><img src=\"https://colab.research.google.com/assets/colab-badge.svg\" alt=\"Open In Colab\"/></a>"
      ]
    },
    {
      "cell_type": "markdown",
      "source": [
        "NOMOR 1:"
      ],
      "metadata": {
        "id": "eHoPkgps2JsL"
      }
    },
    {
      "cell_type": "code",
      "source": [
        "#Import Library\n",
        "import numpy as np\n",
        "import matplotlib.pyplot as plt\n",
        "import matplotlib.colors as mcolors\n",
        "\n",
        "#Memasukan gradasi warna yang diinginkan oleh pengguna\n",
        "#Meminta input warna awal\n",
        "while True:\n",
        "    Warna_Awal = input(\"Masukan warna awal: \")\n",
        "    try: #Cek apakah input bisa dikonversi ke RGB\n",
        "        mcolors.to_rgb(Warna_Awal)\n",
        "        break  #Keluar dari loop jika warna valid\n",
        "    except ValueError:\n",
        "        print(f\"{Warna_Awal} bukan merupakan warna yang valid. \\nCoba dengan menuliskan warna yang valid yaitu menggunakan bahasa inggris dan tanpa spasi.\")\n",
        "\n",
        "#Meminta input warna akhir\n",
        "while True:\n",
        "    Warna_Akhir = input(\"Masukan warna akhir: \")\n",
        "    try: #Cek apakah input bisa dikonversi ke RGB\n",
        "        mcolors.to_rgb(Warna_Akhir)\n",
        "        break  #Keluar dari loop jika warna valid\n",
        "    except ValueError:\n",
        "        print(f\"{Warna_Akhir} bukan merupakan warna yang valid. \\nCoba dengan menuliskan warna yang valid yaitu menggunakan bahasa inggris dan tanpa spasi.\")\n",
        "\n",
        "#Konversi ke nilai RGB\n",
        "WarnaAwal_RGB = mcolors.to_rgb(Warna_Awal)\n",
        "WarnaAkhir_RGB = mcolors.to_rgb(Warna_Akhir)\n",
        "#Konversi warna ke RGB melalui to_rgb() inilah yang menyebabkan warna diwakili dalam bentuk tuple berisi 3 komponen yaitu\n",
        "#(R, G, B) dalam rentang 0.0 – 1.0. Tuple ini dapat diakses melalui indeks [0], [1], dan [2], yang mewakili R, G, dan B\n",
        "\n",
        "Titik = 100 #Semakin banyak jumlah titik yang dibuat, maka semakin halus hasil gradasi yang dihasilkan\n",
        "\n",
        "#Sehingga dibuat Array 1 dimensi untuk setiap masing-masing komponen yaitu R, G, B yang berfungsi untuk menghasilkan nilai-nilai gradasinya\n",
        "#np.linspace(start, stop, num) untuk Membuat Gradasi: digunakan untuk membuat kumpulan nilai yang terbagi\n",
        "#secara merata atau berjarak sama antara nilai start sampai dengan nilai stop. start adalah nilai awal, stop adalah nilai akhir,\n",
        "#dan num adalah jumlah titik yang akan dibuat di antara kedua nilai tersebut.\n",
        "R = np.linspace(WarnaAwal_RGB[0], WarnaAkhir_RGB[0], Titik)\n",
        "G = np.linspace(WarnaAwal_RGB[1], WarnaAkhir_RGB[1], Titik)\n",
        "B = np.linspace(WarnaAwal_RGB[2], WarnaAkhir_RGB[2], Titik)\n",
        "\n",
        "#np.stack adalah fungsi dari numpy yang berfungsi untuk menggabungkan array, dimana disini menggabungkan 3 array 1 dimensi\n",
        "#yaitu(R, G, B) untuk membentuk array 2 dimensi yang mewakili gradasi warna. Dengan axis=1 berfungsi menggabungkan array secara horizontal\n",
        "#yaitu setiap baris mewakili satu warna, dan setiap kolom adalah komponen dari R, G, dan B.\n",
        "Gradasi = np.stack((R, G, B), axis=1)\n",
        "\n",
        "#Fungsi plt.imshow() dalam matplotlib.pyplot ini digunakan untuk menampilkan gambar. Dalam hal ini,\n",
        "#gambar yang ditampilkan adalah array Gradasi yang berisi gradasi warna. Dengan aspect=\"auto\" akan menyesuaikan ukuran plot atau gambar secara otomatis\n",
        "plt.imshow([Gradasi], aspect=\"auto\")\n",
        "#Fungsi plt.axis(\"off\") dalam matplotlib.pyplot ini digunakan untuk mengnonaktifkan atau menghilangkan sumbu pada grafik, sehingga yang terlihat hanya gradasi\n",
        "plt.axis(\"off\")\n",
        "#Fungsi plt.title() dalam matplotlib.pyplot ini digunakan untuk menambahkan judul atau nama pada grafik\n",
        "plt.title(f\"Gradasi dari {Warna_Awal} ke {Warna_Akhir}\")\n",
        "#Fungsi plt.sow() dalam matplotlib.pyplot ini digunakan untuk menampilkan hasil akhir grafiknya\n",
        "plt.show()"
      ],
      "metadata": {
        "colab": {
          "base_uri": "https://localhost:8080/",
          "height": 567
        },
        "id": "cB68JzZsrfRA",
        "outputId": "7ab75b59-634d-4f3c-b621-5bbcb0d89612"
      },
      "execution_count": 21,
      "outputs": [
        {
          "name": "stdout",
          "output_type": "stream",
          "text": [
            "Masukan warna awal: putih\n",
            "putih bukan merupakan warna yang valid. \n",
            "Coba dengan menuliskan warna yang valid yaitu menggunakan bahasa inggris dan tanpa spasi.\n",
            "Masukan warna awal: White\n",
            "Masukan warna akhir: light blue\n",
            "light blue bukan merupakan warna yang valid. \n",
            "Coba dengan menuliskan warna yang valid yaitu menggunakan bahasa inggris dan tanpa spasi.\n",
            "Masukan warna akhir: lightblue\n"
          ]
        },
        {
          "output_type": "display_data",
          "data": {
            "text/plain": [
              "<Figure size 640x480 with 1 Axes>"
            ],
            "image/png": "[encoded data removed]"
          },
          "metadata": {}
        }
      ]
    },
    {
      "cell_type": "markdown",
      "source": [
        "NOMOR 2:"
      ],
      "metadata": {
        "id": "Aige1A9H7af_"
      }
    },
    {
      "cell_type": "code",
      "source": [
        "import pandas as pd\n",
        "\n",
        "#Membuat DataFrame dan menguploadnya berupa file CSV dengan nama data.csv\n",
        "Data_Restoran = {\n",
        "    \"Nama Pelanggan\": [\"Kharina\", \"Amaylia\", \"Dian\", \"Anggi\", \"Ratih\", \"Wira\"],\n",
        "    \"Pesanan\": [\"Pasta\", \"Sushi\", \"Pizza\", \"Burger\", \"Steak\", \"Burger\"],\n",
        "    \"Tanggal Pesanan\": [\"2025-05-01\", \"2025-05-02\", \"2025-05-03\", \"2025-05-04\", \"2025-05-05\", \"2025-05-06\"],\n",
        "    \"Harga Pesanan\": [80000, 70000, 100000, 60000, 250000, 180000],\n",
        "    \"Rating\": [4, 3, 4, 5, 5, 4]\n",
        "}\n",
        "Data_Frame = pd.DataFrame(Data_Restoran)\n",
        "Data_Frame.to_csv(\"Data_Restoran.csv\", index=False)\n",
        "print(\"File CSV berhasil dibuat dengan nama data yaitu Data_Restoran.csv dan disimpan di folder Google Colab.\")"
      ],
      "metadata": {
        "id": "IXU5fbUxij1n",
        "colab": {
          "base_uri": "https://localhost:8080/"
        },
        "outputId": "c66c8396-224b-4c0b-8b0b-b59a614b453f"
      },
      "execution_count": 1,
      "outputs": [
        {
          "output_type": "stream",
          "name": "stdout",
          "text": [
            "File CSV berhasil dibuat dengan nama data yaitu Data_Restoran.csv dan disimpan di folder Google Colab.\n"
          ]
        }
      ]
    },
    {
      "cell_type": "code",
      "source": [
        "#Membaca file CSV menggunakan Pandas dan cetak hasilnya\n",
        "Baca_DataFrame = pd.read_csv(\"/content/Data_Restoran.csv\")\n",
        "print(f\"Diperoleh file CSV yang tersimpan dalam folder Google Colab dengan menelusuri atau membaca file menggunakan pandas adalah sebagai berikut.\\n{Baca_DataFrame}\")\n",
        "\n",
        "#Menambahkan kolom baru yaitu data Pembayaran Via\n",
        "Baca_DataFrame[\"Pembayaran Via\"] = [\"Tunai\", \"Kartu kredit\", \"Tunai\", \"Tunai\", \"Qris\", \"Tunai\"]\n",
        "print(f\"\\nSehingga diperoleh DataFrame dengan penambahan Pembayaran Via sebagai kolom baru yaitu sebagai berikut.\\n{Baca_DataFrame}\")\n",
        "\n",
        "#Menghapus kolom yang ada yaitu pada data Tanggal Pesanan\n",
        "Baca_DataFrame = Baca_DataFrame.drop(columns = [\"Tanggal Pesanan\"])\n",
        "print(f\"\\nSehingga diperoleh DataFrame dengan penghapusan kolom Tanggal Pemabayaran sebagai berikut. \\n{Baca_DataFrame}\")\n",
        "\n",
        "#Mengurutkan isi kolom yaitu pada data Rating\n",
        "Baca_DataFrame = Baca_DataFrame.sort_values([\"Rating\"])\n",
        "print(f\"\\nSehingga diperoleh DataFrame yang telah diurutkan berdasarkan Rating yaitu sebagai berikut. \\n{Baca_DataFrame}\")\n",
        "\n",
        "#Memfilter isi kolom yaitu pada data Pembayaran Via Tunai saja\n",
        "Baca_DataFrame = Baca_DataFrame[Baca_DataFrame[\"Pembayaran Via\"] == \"Tunai\"]\n",
        "print(f\"Sehingga diperoleh DataFrame yang telah difilter berdasarkan Pebayaran Via Tunai saja yaitu sebagai berikut. \\n{Baca_DataFrame}\")"
      ],
      "metadata": {
        "colab": {
          "base_uri": "https://localhost:8080/"
        },
        "id": "e3thsdWyh4lC",
        "outputId": "697be591-6fb3-493e-f291-c048165279bf"
      },
      "execution_count": 16,
      "outputs": [
        {
          "output_type": "stream",
          "name": "stdout",
          "text": [
            "Diperoleh file CSV yang tersimpan dalam folder Google Colab dengan menelusuri atau membaca file menggunakan pandas adalah sebagai berikut.\n",
            "  Nama Pelanggan Pesanan Tanggal Pesanan  Harga Pesanan  Rating\n",
            "0        Kharina   Pasta      2025-05-01          80000       4\n",
            "1        Amaylia   Sushi      2025-05-02          70000       3\n",
            "2           Dian   Pizza      2025-05-03         100000       4\n",
            "3          Anggi  Burger      2025-05-04          60000       5\n",
            "4          Ratih   Steak      2025-05-05         250000       5\n",
            "5           Wira  Burger      2025-05-06         180000       4\n",
            "\n",
            "Sehingga diperoleh DataFrame dengan penambahan Pembayaran Via sebagai kolom baru yaitu sebagai berikut.\n",
            "  Nama Pelanggan Pesanan Tanggal Pesanan  Harga Pesanan  Rating Pembayaran Via\n",
            "0        Kharina   Pasta      2025-05-01          80000       4          Tunai\n",
            "1        Amaylia   Sushi      2025-05-02          70000       3   Kartu kredit\n",
            "2           Dian   Pizza      2025-05-03         100000       4          Tunai\n",
            "3          Anggi  Burger      2025-05-04          60000       5          Tunai\n",
            "4          Ratih   Steak      2025-05-05         250000       5           Qris\n",
            "5           Wira  Burger      2025-05-06         180000       4          Tunai\n",
            "\n",
            "Sehingga diperoleh DataFrame dengan penghapusan kolom Tanggal Pemabayaran sebagai berikut. \n",
            "  Nama Pelanggan Pesanan  Harga Pesanan  Rating Pembayaran Via\n",
            "0        Kharina   Pasta          80000       4          Tunai\n",
            "1        Amaylia   Sushi          70000       3   Kartu kredit\n",
            "2           Dian   Pizza         100000       4          Tunai\n",
            "3          Anggi  Burger          60000       5          Tunai\n",
            "4          Ratih   Steak         250000       5           Qris\n",
            "5           Wira  Burger         180000       4          Tunai\n",
            "\n",
            "Sehingga diperoleh DataFrame yang telah diurutkan berdasarkan Rating yaitu sebagai berikut. \n",
            "  Nama Pelanggan Pesanan  Harga Pesanan  Rating Pembayaran Via\n",
            "1        Amaylia   Sushi          70000       3   Kartu kredit\n",
            "0        Kharina   Pasta          80000       4          Tunai\n",
            "2           Dian   Pizza         100000       4          Tunai\n",
            "5           Wira  Burger         180000       4          Tunai\n",
            "3          Anggi  Burger          60000       5          Tunai\n",
            "4          Ratih   Steak         250000       5           Qris\n",
            "Sehingga diperoleh DataFrame yang telah difilter berdasarkan Pebayaran Via Tunai saja yaitu sebagai berikut. \n",
            "  Nama Pelanggan Pesanan  Harga Pesanan  Rating Pembayaran Via\n",
            "0        Kharina   Pasta          80000       4          Tunai\n",
            "2           Dian   Pizza         100000       4          Tunai\n",
            "5           Wira  Burger         180000       4          Tunai\n",
            "3          Anggi  Burger          60000       5          Tunai\n"
          ]
        }
      ]
    }
  ]
}