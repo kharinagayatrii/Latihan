{
  "nbformat": 4,
  "nbformat_minor": 0,
  "metadata": {
    "colab": {
      "provenance": [],
      "authorship_tag": "ABX9TyO6e0A/O/pWfMXSxKKLBoYC",
      "include_colab_link": true
    },
    "kernelspec": {
      "name": "python3",
      "display_name": "Python 3"
    },
    "language_info": {
      "name": "python"
    }
  },
  "cells": [
    {
      "cell_type": "markdown",
      "metadata": {
        "id": "view-in-github",
        "colab_type": "text"
      },
      "source": [
        "<a href=\"https://colab.research.google.com/github/kharinagayatrii/Latihan/blob/main/Latihan_2_12.ipynb\" target=\"_parent\"><img src=\"https://colab.research.google.com/assets/colab-badge.svg\" alt=\"Open In Colab\"/></a>"
      ]
    },
    {
      "cell_type": "code",
      "execution_count": 1,
      "metadata": {
        "colab": {
          "base_uri": "https://localhost:8080/"
        },
        "id": "W1RVtVVzDrD9",
        "outputId": "632538ad-46d1-4a73-d34b-35741621ecd1"
      },
      "outputs": [
        {
          "output_type": "stream",
          "name": "stdout",
          "text": [
            "['Iqbaal', 'Kiki', 'Bastian', 'Aldi']\n"
          ]
        }
      ],
      "source": [
        "Coboy_Junior06 = [ 'Iqbaal', 'Kiki', 'Bastian', 'Aldi' ]\n",
        "print(Coboy_Junior06)"
      ]
    },
    {
      "cell_type": "code",
      "source": [
        "Coboy_Junior06 = [ 'Iqbaal', 'Kiki', 'Bastian', 'Aldi' ]\n",
        "print(Coboy_Junior06[0])"
      ],
      "metadata": {
        "colab": {
          "base_uri": "https://localhost:8080/"
        },
        "id": "GQhio8ykEUPr",
        "outputId": "bc8ca9dc-257c-4213-ab3e-6936a6b08a9e"
      },
      "execution_count": 2,
      "outputs": [
        {
          "output_type": "stream",
          "name": "stdout",
          "text": [
            "Iqbaal\n"
          ]
        }
      ]
    },
    {
      "cell_type": "code",
      "source": [
        "Coboy_Junior06 = [ 'Iqbaal', 'Kiki', 'Bastian', 'Aldi' ]\n",
        "print(Coboy_Junior06[2])"
      ],
      "metadata": {
        "colab": {
          "base_uri": "https://localhost:8080/"
        },
        "id": "Am9xUOEiEqN7",
        "outputId": "7492f026-aa30-4201-8989-87c75cac004f"
      },
      "execution_count": 4,
      "outputs": [
        {
          "output_type": "stream",
          "name": "stdout",
          "text": [
            "Bastian\n"
          ]
        }
      ]
    },
    {
      "cell_type": "code",
      "source": [
        "Coboy_Junior06 = [ 'Iqbaal', 'Kiki', 'Bastian', 'Aldi' ]\n",
        "print(Coboy_Junior06[-1])"
      ],
      "metadata": {
        "colab": {
          "base_uri": "https://localhost:8080/"
        },
        "id": "U8de2YjhE6ID",
        "outputId": "6ee16069-f36a-430c-e1d5-892f279b80c8"
      },
      "execution_count": 6,
      "outputs": [
        {
          "output_type": "stream",
          "name": "stdout",
          "text": [
            "Aldi\n"
          ]
        }
      ]
    },
    {
      "cell_type": "code",
      "source": [
        "Coboy_Junior06 = [ 'Iqbaal', 'Kiki', 'Bastian', 'Aldi' ]\n",
        "Coboy_Junior06[0] = 'Iqbaal Suamiku'\n",
        "print(Coboy_Junior06)"
      ],
      "metadata": {
        "colab": {
          "base_uri": "https://localhost:8080/"
        },
        "id": "1YKxeeToFKSR",
        "outputId": "33dbe89e-9c64-433d-ef71-8cfca08e7ac0"
      },
      "execution_count": 7,
      "outputs": [
        {
          "output_type": "stream",
          "name": "stdout",
          "text": [
            "['Iqbaal Suamiku', 'Kiki', 'Bastian', 'Aldi']\n"
          ]
        }
      ]
    },
    {
      "cell_type": "code",
      "source": [
        "Coboy_Junior06 = [ 'Iqbaal', 'Kiki', 'Bastian', 'Aldi' ]\n",
        "print(Coboy_Junior06[1:4])"
      ],
      "metadata": {
        "colab": {
          "base_uri": "https://localhost:8080/"
        },
        "id": "P53B4hrzF8G9",
        "outputId": "6970de86-58e9-4362-9415-1a23420dc481"
      },
      "execution_count": 12,
      "outputs": [
        {
          "output_type": "stream",
          "name": "stdout",
          "text": [
            "['Kiki', 'Bastian', 'Aldi']\n"
          ]
        }
      ]
    }
  ]
}